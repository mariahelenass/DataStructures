{
  "nbformat": 4,
  "nbformat_minor": 0,
  "metadata": {
    "colab": {
      "provenance": [],
      "authorship_tag": "ABX9TyMyfdIUB+dQNASl0Q6ZFBLS"
    },
    "kernelspec": {
      "name": "python3",
      "display_name": "Python 3"
    },
    "language_info": {
      "name": "python"
    }
  },
  "cells": [
    {
      "cell_type": "code",
      "execution_count": null,
      "metadata": {
        "id": "tDW67GMXZaDU"
      },
      "outputs": [],
      "source": [
        "class TrieNode:\n",
        "    def __init__(self):\n",
        "        # filhos\n",
        "        self.children = {}\n",
        "        self.is_end_of_word = False\n",
        "\n",
        "\n",
        "class Trie:\n",
        "    def __init__(self):\n",
        "        # no raiz\n",
        "        self.root = TrieNode()\n",
        "\n",
        "    def insert(self, word):\n",
        "      node = self.root\n",
        "      for char in word:\n",
        "        if char not in node.children:\n",
        "          node.children[char] = TrieNode()\n",
        "        node = node.children[char]\n",
        "      node.is_end_of_word = True\n",
        "\n",
        "    def search(self, word):\n",
        "      node = self.root\n",
        "      for char in word:\n",
        "        if char not in node.children:\n",
        "          return False\n",
        "        node = node.children[char]\n",
        "      return node.is_end_of_word = True\n",
        "\n",
        "    def prefix(self, pre):\n",
        "      node = self.root\n",
        "      for char in pre:\n",
        "        if char not in node.children:\n",
        "          return False\n",
        "        node = node.children[char]\n",
        "      return True"
      ]
    }
  ]
}
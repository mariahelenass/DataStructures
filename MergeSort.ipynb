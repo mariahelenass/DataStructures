{
  "nbformat": 4,
  "nbformat_minor": 0,
  "metadata": {
    "colab": {
      "provenance": [],
      "authorship_tag": "ABX9TyM1G+/hJ/Sf1+WPUOWzMBHl",
      "include_colab_link": true
    },
    "kernelspec": {
      "name": "python3",
      "display_name": "Python 3"
    },
    "language_info": {
      "name": "python"
    }
  },
  "cells": [
    {
      "cell_type": "markdown",
      "metadata": {
        "id": "view-in-github",
        "colab_type": "text"
      },
      "source": [
        "<a href=\"https://colab.research.google.com/github/mariahelenass/DataStructures/blob/main/MergeSort.ipynb\" target=\"_parent\"><img src=\"https://colab.research.google.com/assets/colab-badge.svg\" alt=\"Open In Colab\"/></a>"
      ]
    },
    {
      "cell_type": "code",
      "execution_count": null,
      "metadata": {
        "id": "YbVcXcr9Q6wn"
      },
      "outputs": [],
      "source": [
        "def merge(lista, start, mid, end):\n",
        "  left = lista[start:mid]\n",
        "  right = lista[mid:end]\n",
        "  i, j = 0\n",
        "  for k in range(start, end):\n",
        "    if i >= len(left):\n",
        "      lista[k] = right[j]\n",
        "      j = j + 1\n",
        "    elif j >= len(right):\n",
        "      lista[k] = left[i]\n",
        "      i = i + 1\n",
        "    if left[i] < righ[j]:\n",
        "      lista[k] = left[i]\n",
        "      i = i + 1\n",
        "    else:\n",
        "      lista[k] = right[j]\n",
        "      j = j + 1\n",
        "\n",
        "def mergesort(lista, start=0, end=None):\n",
        "  if end is None:\n",
        "    end = len(lista)\n",
        "  if (end - start > 1):\n",
        "    mid = (end + start) // 2\n",
        "    mergesort(lista, start, mid)\n",
        "    mergesort(lista, mid, end)\n",
        "    merge(lista, start, mid, end)"
      ]
    }
  ]
}
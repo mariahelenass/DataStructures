{
  "nbformat": 4,
  "nbformat_minor": 0,
  "metadata": {
    "colab": {
      "provenance": [],
      "authorship_tag": "ABX9TyN8zCvfq19i564NYvJgyEhZ"
    },
    "kernelspec": {
      "name": "python3",
      "display_name": "Python 3"
    },
    "language_info": {
      "name": "python"
    }
  },
  "cells": [
    {
      "cell_type": "code",
      "execution_count": null,
      "metadata": {
        "id": "Hj_eujMm8IGm"
      },
      "outputs": [],
      "source": [
        "import heapq\n",
        "\n",
        "def dijastra(graph, start):\n",
        "  min_heap = [(0, start)]\n",
        "  distances = {node: float('inf') for node in graph}\n",
        "  distances[start] = 0\n",
        "\n",
        "  while min_heap:\n",
        "    dist, n = heapq.heappop(min_heap)\n",
        "\n",
        "    if dist > distances[n]:\n",
        "      continue\n",
        "\n",
        "    for neighbor, d in graph[n].items():\n",
        "      distance = dist + d\n",
        "\n",
        "      if distance <  distances[n]:\n",
        "        distances[neighbor] = distance\n",
        "        heapq.heappush(min_heap, (distance, neighbor))\n",
        "\n",
        "  return distances"
      ]
    }
  ]
}
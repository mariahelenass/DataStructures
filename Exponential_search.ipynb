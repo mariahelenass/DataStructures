{
  "nbformat": 4,
  "nbformat_minor": 0,
  "metadata": {
    "colab": {
      "provenance": [],
      "authorship_tag": "ABX9TyOBn98viEKtCHtxdYf8HWAz"
    },
    "kernelspec": {
      "name": "python3",
      "display_name": "Python 3"
    },
    "language_info": {
      "name": "python"
    }
  },
  "cells": [
    {
      "cell_type": "code",
      "execution_count": 3,
      "metadata": {
        "id": "DwP2t3MtChwU"
      },
      "outputs": [],
      "source": [
        "def binary_search(nums, target, left=0, rigth=None):\n",
        "    if rigth is None:\n",
        "      right = len(nums) - 1\n",
        "    while left < right:\n",
        "        mid = (left + right) // 2\n",
        "        if nums[mid] == target:\n",
        "            return mid\n",
        "        elif nums[mid] < target:\n",
        "            left = mid + 1\n",
        "        else:\n",
        "            right = mid - 1\n",
        "    return -1\n",
        "\n",
        "\n",
        "def exponential_search(array, value):\n",
        "  if array[0] == value:\n",
        "    return 0\n",
        "  n = len(array)\n",
        "  i = 1\n",
        "\n",
        "  while i < n and array[i] < value:\n",
        "    i *= 2\n",
        "  if array[i] == value:\n",
        "    return i\n",
        "\n",
        "  return binary_search(array, value, i//2, min(i,n-1))"
      ]
    },
    {
      "cell_type": "code",
      "source": [
        "\n",
        ""
      ],
      "metadata": {
        "id": "u-fuJhJzECWW"
      },
      "execution_count": null,
      "outputs": []
    }
  ]
}
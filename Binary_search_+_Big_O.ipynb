{
  "nbformat": 4,
  "nbformat_minor": 0,
  "metadata": {
    "colab": {
      "provenance": [],
      "authorship_tag": "ABX9TyPjh4r0ZeEZUmXA/oTZnuP9"
    },
    "kernelspec": {
      "name": "python3",
      "display_name": "Python 3"
    },
    "language_info": {
      "name": "python"
    }
  },
  "cells": [
    {
      "cell_type": "code",
      "execution_count": null,
      "metadata": {
        "id": "fahPRtLBIfwO"
      },
      "outputs": [],
      "source": [
        "def binary_search(elements, element):\n",
        "    min = 0\n",
        "    max = len(elements) - 1\n",
        "\n",
        "    while min <= max:\n",
        "        mid = (min + max) // 2\n",
        "        if elements[mid] == element:\n",
        "            return mid\n",
        "        elif elements[mid] < element:\n",
        "            min = mid + 1\n",
        "        else:\n",
        "            max = mid - 1\n",
        "\n",
        "    return -1"
      ]
    },
    {
      "cell_type": "markdown",
      "source": [
        "O(log n)\n",
        "O(1)"
      ],
      "metadata": {
        "id": "Qx_nfgUJKuRq"
      }
    }
  ]
}
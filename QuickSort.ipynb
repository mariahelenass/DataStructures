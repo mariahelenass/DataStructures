{
  "nbformat": 4,
  "nbformat_minor": 0,
  "metadata": {
    "colab": {
      "provenance": [],
      "authorship_tag": "ABX9TyOzKEDH+rY6KYfyxB+Yjcu6"
    },
    "kernelspec": {
      "name": "python3",
      "display_name": "Python 3"
    },
    "language_info": {
      "name": "python"
    }
  },
  "cells": [
    {
      "cell_type": "code",
      "execution_count": 1,
      "metadata": {
        "id": "wTNRF7DhMMmJ"
      },
      "outputs": [],
      "source": [
        "def partition(elements, start, end):\n",
        "  pivot_end = end\n",
        "  i = start - 1\n",
        "  for j in range(start, end):\n",
        "    if elements[j] <= elements[pivot_end]:\n",
        "      elements[i], elements[j] = elements[j], elements[i]\n",
        "      i += 1\n",
        "  elements[i], elements[pivot_end] = elements[pivot_end], elements[i]\n",
        "  return i\n",
        "\n",
        "\n",
        "def quicksort(elements, left=0, rigth=None):\n",
        "  if rigth is None:\n",
        "    rigth = len(elements) - 1\n",
        "    if left < rigth:\n",
        "      pivot = partition(elements, left, rigth)\n",
        "      quicksort(elements, left, pivot - 1)\n",
        "      quicksort(elements, pivot + 1, rigth)\n"
      ]
    }
  ]
}
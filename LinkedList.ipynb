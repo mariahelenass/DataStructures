{
  "nbformat": 4,
  "nbformat_minor": 0,
  "metadata": {
    "colab": {
      "provenance": [],
      "authorship_tag": "ABX9TyNz962FkBMClJ3H9RUkPJwV"
    },
    "kernelspec": {
      "name": "python3",
      "display_name": "Python 3"
    },
    "language_info": {
      "name": "python"
    }
  },
  "cells": [
    {
      "cell_type": "code",
      "execution_count": 42,
      "metadata": {
        "id": "Xxs__pv5w-cq"
      },
      "outputs": [],
      "source": [
        "class Node:\n",
        "    def __init__(self, value):\n",
        "        self.data = value\n",
        "        self.next = None\n",
        "\n",
        "class LinkedList:\n",
        "    def __init__(self):\n",
        "        self.head = None\n",
        "\n",
        "    def insert_begin(self, value):\n",
        "        new_node = Node(value)\n",
        "        new_node.next = self.head\n",
        "        self.head = new_node\n",
        "\n",
        "    def insert_end(self, value):\n",
        "        new_node = Node(value)\n",
        "        if self.head is None:\n",
        "            self.head = new_node\n",
        "            return\n",
        "        current = self.head\n",
        "        while current.next is not None:\n",
        "            current = current.next\n",
        "        current.next = new_node\n",
        "\n",
        "\n",
        "    def delete_element(self, value):\n",
        "\n",
        "        if self.head is None:\n",
        "            print(\"A lista está vazia.\")\n",
        "            return\n",
        "\n",
        "        if self.head.data == value:\n",
        "            self.head = self.head.next\n",
        "            return\n",
        "\n",
        "        current = self.head\n",
        "        while current.next is not None:\n",
        "            if current.next.data == value:\n",
        "                current.next = current.next.next\n",
        "                return\n",
        "            current = current.next\n",
        "\n",
        "    def print_list(self):\n",
        "        current = self.head\n",
        "        while current is not None:\n",
        "            print(current.data, end=\" -> \")\n",
        "            current = current.next\n",
        "        print(\"None\")"
      ]
    },
    {
      "cell_type": "code",
      "source": [
        "pont = LinkedList()\n",
        "pont.insert_begin(10)"
      ],
      "metadata": {
        "id": "5HuUmgMx-KyT"
      },
      "execution_count": 44,
      "outputs": []
    },
    {
      "cell_type": "code",
      "source": [
        "pont.print_list()"
      ],
      "metadata": {
        "colab": {
          "base_uri": "https://localhost:8080/"
        },
        "id": "Dnnbm3L--QPK",
        "outputId": "bc67d2c0-9fb1-44da-c52f-770f2832d669"
      },
      "execution_count": 45,
      "outputs": [
        {
          "output_type": "stream",
          "name": "stdout",
          "text": [
            "10 -> None\n"
          ]
        }
      ]
    },
    {
      "cell_type": "code",
      "source": [
        "pont.insert_end(20)"
      ],
      "metadata": {
        "id": "ehgpq809_Kg0"
      },
      "execution_count": 46,
      "outputs": []
    },
    {
      "cell_type": "code",
      "source": [
        "pont.print_list()"
      ],
      "metadata": {
        "colab": {
          "base_uri": "https://localhost:8080/"
        },
        "id": "hxA8Sb89_jBN",
        "outputId": "e41007de-58f5-47f1-a37d-c7f624218264"
      },
      "execution_count": 47,
      "outputs": [
        {
          "output_type": "stream",
          "name": "stdout",
          "text": [
            "10 -> 20 -> None\n"
          ]
        }
      ]
    },
    {
      "cell_type": "code",
      "source": [
        "pont.insert_begin(5)"
      ],
      "metadata": {
        "id": "sefsLDjx_m3L"
      },
      "execution_count": 48,
      "outputs": []
    },
    {
      "cell_type": "code",
      "source": [
        "pont.print_list()"
      ],
      "metadata": {
        "colab": {
          "base_uri": "https://localhost:8080/"
        },
        "id": "iptBRs9g_r6f",
        "outputId": "f3404f84-da1d-4b77-950e-b5c96d7c57e8"
      },
      "execution_count": 49,
      "outputs": [
        {
          "output_type": "stream",
          "name": "stdout",
          "text": [
            "5 -> 10 -> 20 -> None\n"
          ]
        }
      ]
    },
    {
      "cell_type": "code",
      "source": [
        "pont.delete_element(10)"
      ],
      "metadata": {
        "id": "RJOW2ge9_s9F"
      },
      "execution_count": 50,
      "outputs": []
    },
    {
      "cell_type": "code",
      "source": [
        "pont.print_list()"
      ],
      "metadata": {
        "colab": {
          "base_uri": "https://localhost:8080/"
        },
        "id": "culx91SrA6fg",
        "outputId": "e100cffe-f1f9-4800-9001-2be4c6fb1356"
      },
      "execution_count": 51,
      "outputs": [
        {
          "output_type": "stream",
          "name": "stdout",
          "text": [
            "5 -> 20 -> None\n"
          ]
        }
      ]
    },
    {
      "cell_type": "code",
      "source": [
        "pont.delete_element(5)"
      ],
      "metadata": {
        "id": "IE4NLDf1A-Fl"
      },
      "execution_count": 52,
      "outputs": []
    },
    {
      "cell_type": "code",
      "source": [
        "pont.print_list()"
      ],
      "metadata": {
        "colab": {
          "base_uri": "https://localhost:8080/"
        },
        "id": "ilE4Dw45BANt",
        "outputId": "ad984107-dddb-431f-ee30-3c9d9c5fdcc7"
      },
      "execution_count": 53,
      "outputs": [
        {
          "output_type": "stream",
          "name": "stdout",
          "text": [
            "20 -> None\n"
          ]
        }
      ]
    }
  ]
}
{
  "nbformat": 4,
  "nbformat_minor": 0,
  "metadata": {
    "colab": {
      "provenance": [],
      "authorship_tag": "ABX9TyOfRBvUvbuw9F6dFYEA6ORy"
    },
    "kernelspec": {
      "name": "python3",
      "display_name": "Python 3"
    },
    "language_info": {
      "name": "python"
    }
  },
  "cells": [
    {
      "cell_type": "code",
      "execution_count": null,
      "metadata": {
        "id": "TuD990dyWux1"
      },
      "outputs": [],
      "source": [
        "class Node:\n",
        "  def __init__(self, data):\n",
        "    self.data = data\n",
        "    self.left = None\n",
        "    self.rigth = None\n",
        "\n",
        "class BinaryTree:\n",
        "  def __init__(self):\n",
        "    self.root = None\n",
        "\n",
        "  def.insert(self, data):\n",
        "    if self.root is None:\n",
        "      self.root = Node(data)\n",
        "    else:\n",
        "      self._insert_recursive(data, self.root)\n",
        "\n",
        "  def _insert_recursive(self, data, node):\n",
        "    if data < node.data:\n",
        "      if node.left is None:\n",
        "        node.left = Node(data)\n",
        "      else:\n",
        "        self._insert_recursive(data, node.left)\n",
        "    else:\n",
        "      if node.right is None:\n",
        "        node.right = Node(data)\n",
        "      else:\n",
        "        self._insert_recursive(data, node.right)\n",
        "\n",
        "  def search(self, key):\n",
        "    return self._search_recursive(key, self.root)\n",
        "\n",
        "  def _search_recursive(self, key, node):\n",
        "    if node is None:\n",
        "      return False\n",
        "    if key == node.data:\n",
        "      return True\n",
        "    elif key < node.data:\n",
        "      return self._search_recursive(key, node.left)\n",
        "    else:\n",
        "      return self._search_recursive(key, node.right)"
      ]
    }
  ]
}
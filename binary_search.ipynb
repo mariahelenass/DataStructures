{
  "nbformat": 4,
  "nbformat_minor": 0,
  "metadata": {
    "colab": {
      "provenance": [],
      "authorship_tag": "ABX9TyOT2ddNKYMUTftgODwtXz4r",
      "include_colab_link": true
    },
    "kernelspec": {
      "name": "python3",
      "display_name": "Python 3"
    },
    "language_info": {
      "name": "python"
    }
  },
  "cells": [
    {
      "cell_type": "markdown",
      "metadata": {
        "id": "view-in-github",
        "colab_type": "text"
      },
      "source": [
        "<a href=\"https://colab.research.google.com/github/mariahelenass/DataStructures/blob/main/binary_search.ipynb\" target=\"_parent\"><img src=\"https://colab.research.google.com/assets/colab-badge.svg\" alt=\"Open In Colab\"/></a>"
      ]
    },
    {
      "cell_type": "markdown",
      "source": [
        "## Binary Search\n",
        "\n"
      ],
      "metadata": {
        "id": "czOcXPqHcviT"
      }
    },
    {
      "cell_type": "code",
      "source": [
        "names = ['Amy', 'Jessie', 'Andrew', 'Maria', 'Kaio']"
      ],
      "metadata": {
        "id": "SeeJEhi9cyup"
      },
      "execution_count": 1,
      "outputs": []
    },
    {
      "cell_type": "code",
      "source": [
        "def binary_search(names, name):\n",
        "  names = sorted(names)\n",
        "  print(names)\n",
        "  low = 0\n",
        "  high = len(names) - 1\n",
        "  while low <= high:\n",
        "    mid = (low + high) // 2\n",
        "    # guess\n",
        "    guess = names[mid]\n",
        "    if guess == name:\n",
        "      return mid\n",
        "    if guess > name:\n",
        "      high = mid - 1\n",
        "    else:\n",
        "      low = mid + 1\n",
        "  return None"
      ],
      "metadata": {
        "id": "fWmOp2b6dLJJ"
      },
      "execution_count": 19,
      "outputs": []
    },
    {
      "cell_type": "code",
      "source": [
        "find_maria = binary_search(names, 'Maria')\n",
        "print(find_maria)"
      ],
      "metadata": {
        "colab": {
          "base_uri": "https://localhost:8080/"
        },
        "id": "8VUTEwLIfJb6",
        "outputId": "ff23fc72-47d2-4600-e4ab-00acddb5e973"
      },
      "execution_count": 20,
      "outputs": [
        {
          "output_type": "stream",
          "name": "stdout",
          "text": [
            "['Amy', 'Andrew', 'Jessie', 'Kaio', 'Maria']\n",
            "4\n"
          ]
        }
      ]
    },
    {
      "cell_type": "code",
      "source": [
        "find_kaio = binary_search(names, 'Kaio')\n",
        "print(find_kaio)"
      ],
      "metadata": {
        "colab": {
          "base_uri": "https://localhost:8080/"
        },
        "id": "RAFUwCD0fO4l",
        "outputId": "c7a678f9-ecd2-4510-d3ff-204c19c773db"
      },
      "execution_count": 21,
      "outputs": [
        {
          "output_type": "stream",
          "name": "stdout",
          "text": [
            "['Amy', 'Andrew', 'Jessie', 'Kaio', 'Maria']\n",
            "3\n"
          ]
        }
      ]
    },
    {
      "cell_type": "code",
      "source": [
        "find_iza = binary_search(names, 'Iza')\n",
        "print(find_iza)"
      ],
      "metadata": {
        "colab": {
          "base_uri": "https://localhost:8080/"
        },
        "id": "arjUzaK8fYU7",
        "outputId": "4664fa59-89f4-49e7-e9ef-f69891e2b6b9"
      },
      "execution_count": 22,
      "outputs": [
        {
          "output_type": "stream",
          "name": "stdout",
          "text": [
            "['Amy', 'Andrew', 'Jessie', 'Kaio', 'Maria']\n",
            "None\n"
          ]
        }
      ]
    }
  ]
}
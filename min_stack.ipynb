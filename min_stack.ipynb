{
  "nbformat": 4,
  "nbformat_minor": 0,
  "metadata": {
    "colab": {
      "provenance": [],
      "authorship_tag": "ABX9TyNLbznm8LFIe2qa43KRLqGG"
    },
    "kernelspec": {
      "name": "python3",
      "display_name": "Python 3"
    },
    "language_info": {
      "name": "python"
    }
  },
  "cells": [
    {
      "cell_type": "code",
      "execution_count": null,
      "metadata": {
        "id": "9aue6wxypR4p"
      },
      "outputs": [],
      "source": [
        "class MinHeap:\n",
        "  def __init__(self):\n",
        "    self.heap = []\n",
        "\n",
        "  def _left_child(self, index):\n",
        "    return 2 * index + 1\n",
        "\n",
        "  def _rigth_child(self, index):\n",
        "    return 2 * index + 2\n",
        "\n",
        "  def _parent(self, index):\n",
        "    return (index-1) // 2\n",
        "\n",
        "  def _heapfy_up(self, index):\n",
        "    if index == 0:\n",
        "      return\n",
        "\n",
        "    parent_index = self._parent(index)\n",
        "\n",
        "    if self.heap[index] < self.heap[parent_index]:\n",
        "       self.heap[index], self.heap[parent_index] =  self.heap[parent_index], self.heap[index]\n",
        "       self._heapfy_up(index)\n",
        "\n",
        "  def _heapfy_down(self, index):\n",
        "    size = len(self.heap)\n",
        "\n",
        "    left = self._left_child(index)\n",
        "    rigth = self._rigth_child(index)\n",
        "    smallest = index\n",
        "\n",
        "    if left < size and self.heap[left] < self.heap[smallest]:\n",
        "      samllest = left\n",
        "\n",
        "    if rigth < size and self.heap[left] < self.heap[smallest]:\n",
        "      samllest = rigth\n",
        "\n",
        "    if smallest != index:\n",
        "      self.heap[index], self.heap[smallest] =  self.heap[smallest], self.heap[index]\n",
        "      self._heapfy_down(smallest)\n",
        "\n",
        "  def insert(self, value):\n",
        "    self.heap.append(value)\n",
        "    self._heapfy_up(len(self.heap)-1)\n",
        "\n",
        "  def pop(self):\n",
        "    if len(self.heap) == 0:\n",
        "           return IndexError(\"Heap is empty\")\n",
        "\n",
        "    if len(self.heap) == 1:\n",
        "           return self.heap.pop()\n",
        "\n",
        "    root = self.heap[0]\n",
        "    self.heap[0] = self.heap.pop()\n",
        "    self._heapfy_down(0)\n",
        "\n",
        "    return root"
      ]
    }
  ]
}
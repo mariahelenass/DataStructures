{
  "nbformat": 4,
  "nbformat_minor": 0,
  "metadata": {
    "colab": {
      "provenance": [],
      "authorship_tag": "ABX9TyNOrpCjrJRZu6/R2q2EOtpc",
      "include_colab_link": true
    },
    "kernelspec": {
      "name": "python3",
      "display_name": "Python 3"
    },
    "language_info": {
      "name": "python"
    }
  },
  "cells": [
    {
      "cell_type": "markdown",
      "metadata": {
        "id": "view-in-github",
        "colab_type": "text"
      },
      "source": [
        "<a href=\"https://colab.research.google.com/github/mariahelenass/DataStructures/blob/main/Double_LinkedList.ipynb\" target=\"_parent\"><img src=\"https://colab.research.google.com/assets/colab-badge.svg\" alt=\"Open In Colab\"/></a>"
      ]
    },
    {
      "cell_type": "code",
      "execution_count": null,
      "metadata": {
        "id": "uRdDW4iyv1FU"
      },
      "outputs": [],
      "source": [
        "class Node():\n",
        "    def __init__(self, value):\n",
        "        self.value = value\n",
        "        self.next = None\n",
        "        self.prev = None\n",
        "\n",
        "\n",
        "class DoubleLinkedList:\n",
        "    def __init__(self):\n",
        "        self.root = None\n",
        "        self.tail = None\n",
        "\n",
        "    def add_to_front(self, value):\n",
        "        new_node = Node(value)\n",
        "        new_node.next = self.root\n",
        "        if self.root:\n",
        "            self.root.prev = new_node\n",
        "        else:\n",
        "            self.tail = new_node\n",
        "        self.root = new_node\n",
        "\n",
        "    def add_to_end(self, value):\n",
        "        new_node = Node(value)\n",
        "        new_node.prev = self.tail\n",
        "        if self.tail:\n",
        "            self.tail.next = new_node\n",
        "        else:\n",
        "            self.root = new_node\n",
        "        self.tail = new_node\n",
        "\n",
        "    def remove_from_front(self) -> int:\n",
        "        if not self.root:\n",
        "            return None\n",
        "        remover = self.root.value\n",
        "        self.root = self.root.next\n",
        "        if self.root:\n",
        "            self.root.prev = None\n",
        "        else:\n",
        "            self.tail = None\n",
        "        return remover\n",
        "\n",
        "    def remove_from_end(self) -> int:\n",
        "        if not self.tail:\n",
        "            return None\n",
        "        remover = self.tail.value\n",
        "        self.tail = self.tail.prev\n",
        "        if self.tail:\n",
        "            self.tail.prev = None\n",
        "        else:\n",
        "            self.tail = None\n",
        "        return remover"
      ]
    }
  ]
}
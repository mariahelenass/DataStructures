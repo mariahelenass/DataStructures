{
  "nbformat": 4,
  "nbformat_minor": 0,
  "metadata": {
    "colab": {
      "provenance": [],
      "authorship_tag": "ABX9TyP5DishQiv0MriKyyhyFSWf"
    },
    "kernelspec": {
      "name": "python3",
      "display_name": "Python 3"
    },
    "language_info": {
      "name": "python"
    }
  },
  "cells": [
    {
      "cell_type": "code",
      "execution_count": 2,
      "metadata": {
        "id": "7X6pkCHMICOT"
      },
      "outputs": [],
      "source": [
        "class Node:\n",
        "  def __init__(self, val):\n",
        "    self.val = val\n",
        "    # next value\n",
        "    self.next = None\n",
        "\n",
        "class LinkedList:\n",
        "  def __init__(self, head=None):\n",
        "    self.head = head\n",
        "\n",
        "  def insert(self, val):\n",
        "    new_node = Node(val)\n",
        "    if self.head is None:\n",
        "      self.head = new_node\n",
        "    current = self.head\n",
        "    while current.next is not None:\n",
        "      current = current.next\n",
        "    current.next = new_node"
      ]
    }
  ]
}
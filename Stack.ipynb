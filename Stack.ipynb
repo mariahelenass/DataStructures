{
  "nbformat": 4,
  "nbformat_minor": 0,
  "metadata": {
    "colab": {
      "provenance": [],
      "authorship_tag": "ABX9TyOwZ5jotD1BmZe/0HwVEkAe"
    },
    "kernelspec": {
      "name": "python3",
      "display_name": "Python 3"
    },
    "language_info": {
      "name": "python"
    }
  },
  "cells": [
    {
      "cell_type": "code",
      "execution_count": null,
      "metadata": {
        "id": "J_2AIm5h1Xt_"
      },
      "outputs": [],
      "source": [
        "class Stack:\n",
        "  def __init__(self):\n",
        "    self.items = []\n",
        "\n",
        "  def push(self, item):\n",
        "    self.items.append(item)\n",
        "\n",
        "  def pop(self):\n",
        "    if not len(self.items):\n",
        "      raise IndexError(\"Empty List\")\n",
        "    return self.items.pop()\n",
        "\n",
        "  def peek(self, item):\n",
        "     if not len(self.items):\n",
        "      raise IndexError(\"Empty List\")\n",
        "    return self.items[-1]"
      ]
    }
  ]
}
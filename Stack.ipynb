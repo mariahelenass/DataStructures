{
  "nbformat": 4,
  "nbformat_minor": 0,
  "metadata": {
    "colab": {
      "provenance": [],
      "authorship_tag": "ABX9TyPzY55034AXOmyY6jPmLnCe"
    },
    "kernelspec": {
      "name": "python3",
      "display_name": "Python 3"
    },
    "language_info": {
      "name": "python"
    }
  },
  "cells": [
    {
      "cell_type": "code",
      "execution_count": 1,
      "metadata": {
        "id": "blX0xQ2QC2Ag"
      },
      "outputs": [],
      "source": [
        "class Node:\n",
        "    def __init__(self, val):\n",
        "        self.val = val\n",
        "        self.next = None\n",
        "\n",
        "\n",
        "class Stack:\n",
        "    def __init__(self):\n",
        "        self.head = None\n",
        "\n",
        "    def put(self, val):\n",
        "        node = Node(val)\n",
        "        node.next = self.head\n",
        "        self.head = node\n",
        "\n",
        "    def pop(self):\n",
        "        if self.head is None:\n",
        "            print(\"A pilha está vazia!\")\n",
        "            return None\n",
        "        val = self.head.val\n",
        "        self.head = self.head.next\n",
        "        return val\n",
        "\n",
        "    def peek(self):\n",
        "        if self.head is None:\n",
        "            print(\"A pilha está vazia!\")\n",
        "            return None\n",
        "        return self.head.val\n",
        "\n",
        "    def is_empty(self):\n",
        "        return self.head is None"
      ]
    },
    {
      "cell_type": "code",
      "source": [
        "stack = Stack()"
      ],
      "metadata": {
        "id": "Yd55YkzgISmL"
      },
      "execution_count": 2,
      "outputs": []
    },
    {
      "cell_type": "code",
      "source": [
        "stack.put(5)"
      ],
      "metadata": {
        "id": "ycrSyeEDIX5r"
      },
      "execution_count": 4,
      "outputs": []
    },
    {
      "cell_type": "code",
      "source": [
        "stack.put(10)"
      ],
      "metadata": {
        "id": "L0i0YO0tIcX1"
      },
      "execution_count": 5,
      "outputs": []
    },
    {
      "cell_type": "code",
      "source": [
        "stack.put(15)"
      ],
      "metadata": {
        "id": "EE2AaaTDIkoT"
      },
      "execution_count": 6,
      "outputs": []
    },
    {
      "cell_type": "code",
      "source": [
        "stack.peek()"
      ],
      "metadata": {
        "colab": {
          "base_uri": "https://localhost:8080/"
        },
        "id": "isoRHu0vInid",
        "outputId": "74f4667f-cd21-4424-a648-6fdf81a5b2a1"
      },
      "execution_count": 7,
      "outputs": [
        {
          "output_type": "execute_result",
          "data": {
            "text/plain": [
              "15"
            ]
          },
          "metadata": {},
          "execution_count": 7
        }
      ]
    },
    {
      "cell_type": "code",
      "source": [
        "stack.pop()"
      ],
      "metadata": {
        "colab": {
          "base_uri": "https://localhost:8080/"
        },
        "id": "gbVojl67Ipwp",
        "outputId": "97ed96dc-4ef1-4686-c652-78fabf2e486e"
      },
      "execution_count": 8,
      "outputs": [
        {
          "output_type": "execute_result",
          "data": {
            "text/plain": [
              "15"
            ]
          },
          "metadata": {},
          "execution_count": 8
        }
      ]
    },
    {
      "cell_type": "code",
      "source": [
        "stack.peek()"
      ],
      "metadata": {
        "colab": {
          "base_uri": "https://localhost:8080/"
        },
        "id": "CpqCgzCLItY1",
        "outputId": "8f8001b3-db3a-4d61-8f3c-f3042f46080b"
      },
      "execution_count": 9,
      "outputs": [
        {
          "output_type": "execute_result",
          "data": {
            "text/plain": [
              "10"
            ]
          },
          "metadata": {},
          "execution_count": 9
        }
      ]
    }
  ]
}
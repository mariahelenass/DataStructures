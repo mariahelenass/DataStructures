{
  "nbformat": 4,
  "nbformat_minor": 0,
  "metadata": {
    "colab": {
      "provenance": [],
      "authorship_tag": "ABX9TyPQ31UQ1PF86OshBTE8ag+4"
    },
    "kernelspec": {
      "name": "python3",
      "display_name": "Python 3"
    },
    "language_info": {
      "name": "python"
    }
  },
  "cells": [
    {
      "cell_type": "code",
      "execution_count": 50,
      "metadata": {
        "id": "T2QcC0tkn0d8"
      },
      "outputs": [],
      "source": [
        "def BubbleSort(elemento):\n",
        "  size = len(elemento) - 1\n",
        "  for _ in elemento:\n",
        "    for i in range(size-1):\n",
        "      if elemento[i] > elemento[i+1]:\n",
        "        elemento[i], elemento[i+1] = elemento[i+1], elemento[i]\n",
        "  return elemento"
      ]
    },
    {
      "cell_type": "code",
      "source": [
        "lista = [2,6,5,7]"
      ],
      "metadata": {
        "id": "LdqZmz0XqY_2"
      },
      "execution_count": 51,
      "outputs": []
    },
    {
      "cell_type": "code",
      "source": [
        "BubbleSort(lista)"
      ],
      "metadata": {
        "colab": {
          "base_uri": "https://localhost:8080/"
        },
        "id": "2L9l_i8pqchw",
        "outputId": "d7c259c1-7bf3-4708-f381-1c0aa049ab35"
      },
      "execution_count": 52,
      "outputs": [
        {
          "output_type": "execute_result",
          "data": {
            "text/plain": [
              "[2, 5, 6, 7]"
            ]
          },
          "metadata": {},
          "execution_count": 52
        }
      ]
    }
  ]
}
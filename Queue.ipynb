{
  "nbformat": 4,
  "nbformat_minor": 0,
  "metadata": {
    "colab": {
      "provenance": [],
      "authorship_tag": "ABX9TyM2SMinCv+40x+fsMq76iuQ"
    },
    "kernelspec": {
      "name": "python3",
      "display_name": "Python 3"
    },
    "language_info": {
      "name": "python"
    }
  },
  "cells": [
    {
      "cell_type": "code",
      "execution_count": 8,
      "metadata": {
        "id": "6lQLZuHECZy2"
      },
      "outputs": [],
      "source": [
        "class Queue:\n",
        "  def __init__(self):\n",
        "    self.queue = []\n",
        "  def insert(self, element):\n",
        "    self.queue.append(element)\n",
        "  def delete(self):\n",
        "    if len(self.queue) < 1:\n",
        "      return None\n",
        "    return self.queue.pop(0)\n",
        "  def show(self):\n",
        "    return self.queue"
      ]
    },
    {
      "cell_type": "code",
      "source": [
        "q = Queue()"
      ],
      "metadata": {
        "id": "w-_9sgAgDSzp"
      },
      "execution_count": 9,
      "outputs": []
    },
    {
      "cell_type": "code",
      "source": [
        "q.insert(1)\n",
        "q.insert(30)\n",
        "q.insert(60)"
      ],
      "metadata": {
        "id": "z2A5rSV6DXjo"
      },
      "execution_count": 10,
      "outputs": []
    },
    {
      "cell_type": "code",
      "source": [
        "q.delete()"
      ],
      "metadata": {
        "colab": {
          "base_uri": "https://localhost:8080/"
        },
        "id": "FCkIau3WDd3L",
        "outputId": "bb9e48b0-dbbd-4e84-de2d-ddf1d01da533"
      },
      "execution_count": 11,
      "outputs": [
        {
          "output_type": "execute_result",
          "data": {
            "text/plain": [
              "1"
            ]
          },
          "metadata": {},
          "execution_count": 11
        }
      ]
    },
    {
      "cell_type": "code",
      "source": [
        "q.show()"
      ],
      "metadata": {
        "colab": {
          "base_uri": "https://localhost:8080/"
        },
        "id": "kZ32J1k1Dk_d",
        "outputId": "ca46a113-35be-42b7-ce56-d729d8673474"
      },
      "execution_count": 12,
      "outputs": [
        {
          "output_type": "execute_result",
          "data": {
            "text/plain": [
              "[30, 60]"
            ]
          },
          "metadata": {},
          "execution_count": 12
        }
      ]
    }
  ]
}